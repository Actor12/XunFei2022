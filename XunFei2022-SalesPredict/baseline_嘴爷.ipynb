{
 "cells": [
  {
   "cell_type": "code",
   "execution_count": 1,
   "metadata": {},
   "outputs": [],
   "source": [
    "import pandas as pd\n",
    "import numpy as np\n",
    "import lightgbm as lgb\n",
    "from sklearn.preprocessing import LabelEncoder\n",
    "from sklearn.model_selection import StratifiedKFold\n",
    "from matplotlib.pyplot import plot, show"
   ]
  },
  {
   "cell_type": "code",
   "execution_count": 2,
   "metadata": {},
   "outputs": [],
   "source": [
    "LABEL = 'label'\n",
    "\n",
    "df_train = pd.read_csv('data/商品需求训练集.csv')\n",
    "df_train_order = pd.read_csv('data/商品月订单训练集.csv')\n",
    "df_train['date'] = pd.to_datetime(df_train['date'])\n",
    "df_train['year'] = df_train['date'].dt.year\n",
    "df_train['month'] = df_train['date'].dt.month\n",
    "df_train = df_train.groupby(['product_id', 'year', 'month'])[['is_sale_day', 'label']].sum().reset_index()\n",
    "df_train = df_train.merge(df_train_order, on=['product_id', 'year', 'month'], how='left')\n",
    "\n",
    "df_test = pd.read_csv('data/商品需求测试集.csv')\n",
    "df_test_order = pd.read_csv('data/商品月订单测试集.csv')\n",
    "df_test['date'] = pd.to_datetime(df_test['date'])\n",
    "df_test['year'] = df_test['date'].dt.year\n",
    "df_test['month'] = df_test['date'].dt.month\n",
    "df_test = df_test.groupby(['product_id', 'year', 'month'])[['is_sale_day']].sum().reset_index()\n",
    "df_test = df_test.merge(df_test_order, on=['product_id', 'year', 'month'], how='left')\n",
    "\n",
    "# feats = ['month', 'order', 'start_stock', 'end_stock']\n",
    "\n",
    "df = pd.concat([df_train, df_test])"
   ]
  },
  {
   "cell_type": "code",
   "execution_count": 3,
   "metadata": {},
   "outputs": [],
   "source": [
    "for i in range(1, 8):\n",
    "    for f in [LABEL, 'order', 'start_stock', 'end_stock']:\n",
    "        df[f+'_shift_%d'%i] = df.groupby('product_id')[f].shift(i+3)\n",
    "\n",
    "for i in range(4):\n",
    "    for f in ['order', 'start_stock', 'end_stock']:\n",
    "        df[f+'_shift_-%d'%i] = df.groupby('product_id')[f].shift(-i)\n",
    "\n",
    "for i in [3, 6]:\n",
    "    for f in [LABEL, 'order', 'start_stock', 'end_stock']:\n",
    "        df[f+'_mean_%d'%i] = df[[f+'_shift_%d'%i for i in range(1, i+1)]].mean(axis=1)\n",
    "        df[f+'_std_%d'%i] = df[[f+'_shift_%d'%i for i in range(1, i+1)]].std(axis=1)\n",
    "        df[f+'_median_%d'%i] = df[[f+'_shift_%d'%i for i in range(1, i+1)]].median(axis=1)\n",
    "\n",
    "le = LabelEncoder()\n",
    "df['type'] = le.fit_transform(df['type'])\n",
    "df['type'] = df['type'].astype('category')\n",
    "\n",
    "df['product_id'] = df['product_id'].astype('category')\n",
    "\n",
    "df_train = df[df[LABEL].notna()].reset_index(drop=True)\n",
    "df_test = df[df[LABEL].isna()].reset_index(drop=True)\n",
    "\n",
    "feats = [f for f in df_test if f not in ['year', 'label']]\n",
    "\n",
    "df_train[LABEL+'_log1p'] = np.log1p(df_train[LABEL])"
   ]
  },
  {
   "cell_type": "code",
   "execution_count": 6,
   "metadata": {},
   "outputs": [
    {
     "name": "stdout",
     "output_type": "stream",
     "text": [
      "----------- 0\n",
      "Training until validation scores don't improve for 100 rounds\n"
     ]
    },
    {
     "name": "stderr",
     "output_type": "stream",
     "text": [
      "D:\\Anaconda3\\lib\\site-packages\\lightgbm\\basic.py:1780: UserWarning: Overriding the parameters from Reference Dataset.\n",
      "  _log_warning('Overriding the parameters from Reference Dataset.')\n",
      "D:\\Anaconda3\\lib\\site-packages\\lightgbm\\basic.py:1513: UserWarning: categorical_column in param dict is overridden.\n",
      "  _log_warning(f'{cat_alias} in param dict is overridden.')\n"
     ]
    },
    {
     "name": "stdout",
     "output_type": "stream",
     "text": [
      "[1000]\tvalid_0's l2: 0.388253\n",
      "Early stopping, best iteration is:\n",
      "[1179]\tvalid_0's l2: 0.387578\n",
      "----------- 1\n",
      "Training until validation scores don't improve for 100 rounds\n",
      "Early stopping, best iteration is:\n",
      "[250]\tvalid_0's l2: 0.291563\n",
      "----------- 2\n",
      "Training until validation scores don't improve for 100 rounds\n",
      "[1000]\tvalid_0's l2: 0.450587\n",
      "Early stopping, best iteration is:\n",
      "[939]\tvalid_0's l2: 0.45016\n",
      "----------- 3\n",
      "Training until validation scores don't improve for 100 rounds\n",
      "Early stopping, best iteration is:\n",
      "[513]\tvalid_0's l2: 0.411806\n",
      "----------- 4\n",
      "Training until validation scores don't improve for 100 rounds\n",
      "Early stopping, best iteration is:\n",
      "[617]\tvalid_0's l2: 0.415261\n",
      "----------- 0\n",
      "Training until validation scores don't improve for 100 rounds\n"
     ]
    },
    {
     "name": "stderr",
     "output_type": "stream",
     "text": [
      "D:\\Anaconda3\\lib\\site-packages\\lightgbm\\basic.py:1780: UserWarning: Overriding the parameters from Reference Dataset.\n",
      "  _log_warning('Overriding the parameters from Reference Dataset.')\n",
      "D:\\Anaconda3\\lib\\site-packages\\lightgbm\\basic.py:1513: UserWarning: categorical_column in param dict is overridden.\n",
      "  _log_warning(f'{cat_alias} in param dict is overridden.')\n"
     ]
    },
    {
     "name": "stdout",
     "output_type": "stream",
     "text": [
      "Early stopping, best iteration is:\n",
      "[359]\tvalid_0's l2: 0.382648\n",
      "----------- 1\n",
      "Training until validation scores don't improve for 100 rounds\n",
      "Early stopping, best iteration is:\n",
      "[589]\tvalid_0's l2: 0.361734\n",
      "----------- 2\n",
      "Training until validation scores don't improve for 100 rounds\n",
      "Early stopping, best iteration is:\n",
      "[814]\tvalid_0's l2: 0.359958\n",
      "----------- 3\n",
      "Training until validation scores don't improve for 100 rounds\n",
      "Early stopping, best iteration is:\n",
      "[749]\tvalid_0's l2: 0.480427\n",
      "----------- 4\n",
      "Training until validation scores don't improve for 100 rounds\n",
      "Early stopping, best iteration is:\n",
      "[753]\tvalid_0's l2: 0.339635\n",
      "----------- 0\n",
      "Training until validation scores don't improve for 100 rounds\n"
     ]
    },
    {
     "name": "stderr",
     "output_type": "stream",
     "text": [
      "D:\\Anaconda3\\lib\\site-packages\\lightgbm\\basic.py:1780: UserWarning: Overriding the parameters from Reference Dataset.\n",
      "  _log_warning('Overriding the parameters from Reference Dataset.')\n",
      "D:\\Anaconda3\\lib\\site-packages\\lightgbm\\basic.py:1513: UserWarning: categorical_column in param dict is overridden.\n",
      "  _log_warning(f'{cat_alias} in param dict is overridden.')\n"
     ]
    },
    {
     "name": "stdout",
     "output_type": "stream",
     "text": [
      "Early stopping, best iteration is:\n",
      "[584]\tvalid_0's l2: 0.308574\n",
      "----------- 1\n",
      "Training until validation scores don't improve for 100 rounds\n",
      "Early stopping, best iteration is:\n",
      "[244]\tvalid_0's l2: 0.427421\n",
      "----------- 2\n",
      "Training until validation scores don't improve for 100 rounds\n",
      "Early stopping, best iteration is:\n",
      "[565]\tvalid_0's l2: 0.410831\n",
      "----------- 3\n",
      "Training until validation scores don't improve for 100 rounds\n",
      "Early stopping, best iteration is:\n",
      "[896]\tvalid_0's l2: 0.376414\n",
      "----------- 4\n",
      "Training until validation scores don't improve for 100 rounds\n",
      "Early stopping, best iteration is:\n",
      "[287]\tvalid_0's l2: 0.333764\n",
      "0.7290656465899663\n",
      "2.0655183210424832\n"
     ]
    },
    {
     "data": {
      "image/png": "[encoded data removed]",
      "text/plain": [
       "<Figure size 432x288 with 1 Axes>"
      ]
     },
     "metadata": {
      "needs_background": "light"
     },
     "output_type": "display_data"
    }
   ],
   "source": [
    "params = {\n",
    "    'learning_rate': 0.05,\n",
    "    'boosting_type': 'gbdt',\n",
    "    'objective': 'regression',\n",
    "    'metric': 'mse',\n",
    "    'verbose': -1,\n",
    "    'seed': 2222,\n",
    "    'n_jobs': -1,\n",
    "}\n",
    "\n",
    "fold_num = 5\n",
    "seeds = [2222]\n",
    "oof = np.zeros(len(df_train))\n",
    "importance = 0\n",
    "pred_y = pd.DataFrame()\n",
    "for seed in seeds:\n",
    "    kf = StratifiedKFold(n_splits=fold_num, shuffle=True, random_state=seed)\n",
    "    for fold, (train_idx, val_idx) in enumerate(kf.split(df_train[feats], df_train['product_id'])):\n",
    "        print('-----------', fold)\n",
    "        train = lgb.Dataset(df_train.loc[train_idx, feats],\n",
    "                            df_train.loc[train_idx, LABEL+'_log1p'])\n",
    "        val = lgb.Dataset(df_train.loc[val_idx, feats],\n",
    "                          df_train.loc[val_idx, LABEL+'_log1p'])\n",
    "        model = lgb.train(params, train, valid_sets=[val], num_boost_round=10000,\n",
    "                          callbacks=[lgb.early_stopping(100), lgb.log_evaluation(1000)])\n",
    "\n",
    "        oof[val_idx] += model.predict(df_train.loc[val_idx, feats]) / len(seeds)\n",
    "        pred_y['fold_%d_seed_%d' % (fold, seed)] = model.predict(df_test[feats])\n",
    "        importance += model.feature_importance(importance_type='gain') / fold_num\n",
    "\n",
    "df_train['target_weight'] = df_train[LABEL] / df_train.groupby(['year', 'month'])[LABEL].transform('sum')\n",
    "df_train['oof'] = np.expm1(oof)\n",
    "score1 = np.sum((1 - np.abs(df_train[LABEL]-df_train['oof']) / (df_train[LABEL])\n",
    "                 ) *\n",
    "                df_train['target_weight']) / 35\n",
    "print(score1)\n",
    "print(np.mean(np.abs(df_train[LABEL]-np.expm1(oof))/(df_train[LABEL]+1)))\n",
    "plot(df_train[LABEL])\n",
    "plot(np.expm1(oof))\n",
    "show()\n"
   ]
  },
  {
   "cell_type": "code",
   "execution_count": 7,
   "metadata": {},
   "outputs": [
    {
     "name": "stdout",
     "output_type": "stream",
     "text": [
      "                    name    importance\n",
      "5            start_stock  1.641212e+06\n",
      "39  start_stock_shift_-1  8.499858e+05\n",
      "60           label_std_6  4.495475e+04\n",
      "4                  order  3.318590e+04\n",
      "7          label_shift_1  1.040503e+04\n",
      "0             product_id  1.014532e+04\n",
      "46    end_stock_shift_-3  9.698215e+03\n",
      "44        order_shift_-3  8.106021e+03\n",
      "41        order_shift_-2  6.832684e+03\n",
      "40    end_stock_shift_-1  6.807261e+03\n",
      "45  start_stock_shift_-3  6.000264e+03\n",
      "47          label_mean_3  5.074401e+03\n",
      "6              end_stock  5.070855e+03\n",
      "3                   type  4.218423e+03\n",
      "43    end_stock_shift_-2  3.912443e+03\n",
      "42  start_stock_shift_-2  3.555947e+03\n",
      "38        order_shift_-1  3.303485e+03\n",
      "28         order_shift_6  2.750212e+03\n",
      "63           order_std_6  2.676060e+03\n",
      "56      end_stock_mean_3  2.549243e+03\n",
      "32         order_shift_7  2.496305e+03\n",
      "34     end_stock_shift_7  2.358053e+03\n",
      "15         label_shift_3  2.239206e+03\n",
      "16         order_shift_3  2.159150e+03\n",
      "51           order_std_3  2.148185e+03\n",
      "68      end_stock_mean_6  2.086965e+03\n",
      "24         order_shift_5  1.985766e+03\n",
      "8          order_shift_1  1.976543e+03\n",
      "20         order_shift_4  1.957693e+03\n",
      "48           label_std_3  1.901692e+03\n"
     ]
    }
   ],
   "source": [
    "feats_importance = pd.DataFrame()\n",
    "feats_importance['name'] = feats\n",
    "feats_importance['importance'] = importance\n",
    "print(feats_importance.sort_values('importance', ascending=False)[:30])\n",
    "df_test[LABEL] = np.expm1(pred_y.mean(axis=1).values)\n",
    "\n",
    "df_test = df_test.sort_values(by=['month', 'product_id'])\n",
    "sub = pd.read_csv('data/提交示例.csv')\n",
    "sub[LABEL] = df_test[LABEL].values\n",
    "sub[LABEL] = sub[LABEL].map(lambda x: x if x >= 0 else 0)\n",
    "\n",
    "sub.to_csv('data/baseline0621.csv', index=False)"
   ]
  },
  {
   "cell_type": "code",
   "execution_count": null,
   "metadata": {},
   "outputs": [],
   "source": []
  }
 ],
 "metadata": {
  "kernelspec": {
   "display_name": "Python 3",
   "language": "python",
   "name": "python3"
  },
  "language_info": {
   "codemirror_mode": {
    "name": "ipython",
    "version": 3
   },
   "file_extension": ".py",
   "mimetype": "text/x-python",
   "name": "python",
   "nbconvert_exporter": "python",
   "pygments_lexer": "ipython3",
   "version": "3.8.5"
  }
 },
 "nbformat": 4,
 "nbformat_minor": 4
}
