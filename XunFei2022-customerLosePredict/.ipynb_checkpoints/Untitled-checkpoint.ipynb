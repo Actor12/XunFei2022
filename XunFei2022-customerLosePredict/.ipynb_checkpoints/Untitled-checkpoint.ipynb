{
 "cells": [
  {
   "cell_type": "markdown",
   "metadata": {},
   "source": [
    "### 待做思路：\n",
    "1.画训练和测试集的特征值分布图，观察是否存在分布差异较大的特征，做剔除。"
   ]
  },
  {
   "cell_type": "code",
   "execution_count": 1,
   "metadata": {},
   "outputs": [],
   "source": [
    "import pandas as pd\n",
    "import os\n",
    "import gc\n",
    "import lightgbm as lgb\n",
    "import xgboost as xgb\n",
    "from catboost import CatBoostRegressor\n",
    "from sklearn.linear_model import SGDRegressor, LinearRegression, Ridge\n",
    "from sklearn.preprocessing import MinMaxScaler\n",
    "from sklearn import metrics\n",
    "from gensim.models import Word2Vec\n",
    "import math\n",
    "import numpy as np\n",
    "from tqdm import tqdm\n",
    "from sklearn.model_selection import StratifiedKFold, KFold\n",
    "from sklearn.metrics import accuracy_score, f1_score, roc_auc_score, log_loss\n",
    "import matplotlib.pyplot as plt\n",
    "import time\n",
    "import warnings\n",
    "warnings.filterwarnings('ignore')"
   ]
  },
  {
   "cell_type": "code",
   "execution_count": 2,
   "metadata": {},
   "outputs": [],
   "source": [
    "train = pd.read_csv('./data/train.csv')\n",
    "test = pd.read_csv('./data/test.csv')\n",
    "data = pd.concat([train, test], axis=0, ignore_index=True)"
   ]
  },
  {
   "cell_type": "code",
   "execution_count": null,
   "metadata": {},
   "outputs": [],
   "source": []
  },
  {
   "cell_type": "code",
   "execution_count": 3,
   "metadata": {},
   "outputs": [
    {
     "ename": "SyntaxError",
     "evalue": "invalid syntax (<ipython-input-3-64575e33a10e>, line 2)",
     "output_type": "error",
     "traceback": [
      "\u001b[1;36m  File \u001b[1;32m\"<ipython-input-3-64575e33a10e>\"\u001b[1;36m, line \u001b[1;32m2\u001b[0m\n\u001b[1;33m    data['平均丢弃数据呼叫数'] = data['平均丢弃数据呼叫数'].apply(lambda x:11 if x>10)\u001b[0m\n\u001b[1;37m                                                                   ^\u001b[0m\n\u001b[1;31mSyntaxError\u001b[0m\u001b[1;31m:\u001b[0m invalid syntax\n"
     ]
    }
   ],
   "source": [
    "#平均丢弃数据呼叫数,平均占线数据调用次数,长尾，大于10设为11\n",
    "data['平均丢弃数据呼叫数'] = data['平均丢弃数据呼叫数'].apply(lambda x:11 if x>10)\n",
    "data['平均占线数据调用次数'] = data['平均占线数据调用次数'].apply(lambda x:11 if x>10)\n",
    "data['平均客户服务电话次数'] = data['平均客户服务电话次数'].apply(lambda x:51 if x>50)"
   ]
  },
  {
   "cell_type": "code",
   "execution_count": 5,
   "metadata": {},
   "outputs": [],
   "source": [
    "features = [f for f in data.columns if f not in ['是否流失','客户ID']]\n",
    "\n",
    "train = data[data['是否流失'].notnull()].reset_index(drop=True)\n",
    "test = data[data['是否流失'].isnull()].reset_index(drop=True)\n",
    "\n",
    "x_train = train[features]\n",
    "x_test = test[features]\n",
    "\n",
    "y_train = train['是否流失']"
   ]
  },
  {
   "cell_type": "code",
   "execution_count": 24,
   "metadata": {},
   "outputs": [],
   "source": [
    "def cv_model(clf, train_x, train_y, test_x, clf_name):\n",
    "    folds = 5\n",
    "    seed = 2022\n",
    "    kf = KFold(n_splits=folds, shuffle=True, random_state=seed)\n",
    "\n",
    "    train = np.zeros(train_x.shape[0])\n",
    "    test = np.zeros(test_x.shape[0])\n",
    "\n",
    "    cv_scores = []\n",
    "    test_pred_sum = np.zeros(len(test))\n",
    "\n",
    "    for i, (train_index, valid_index) in enumerate(kf.split(train_x, train_y)):\n",
    "        print('************************************{}***{} ************************************'.format(clf_name,str(i+1)))\n",
    "        trn_x, trn_y, val_x, val_y = train_x.iloc[train_index], train_y[train_index], train_x.iloc[valid_index], train_y[valid_index]\n",
    "\n",
    "        if clf_name == \"lgb\":\n",
    "            train_matrix = clf.Dataset(trn_x, label=trn_y)\n",
    "            valid_matrix = clf.Dataset(val_x, label=val_y)\n",
    "\n",
    "            params = {\n",
    "                'boosting_type': 'gbdt',\n",
    "                'objective': 'binary',\n",
    "                'metric': 'auc',\n",
    "                'min_child_weight': 5,\n",
    "                'num_leaves': 2 ** 5,\n",
    "                'lambda_l2': 10,\n",
    "                'feature_fraction': 0.7,\n",
    "                'bagging_fraction': 0.7,\n",
    "                'bagging_freq': 10,\n",
    "                'learning_rate': 0.2,\n",
    "                'seed': 2022,\n",
    "                'n_jobs':-1\n",
    "            }\n",
    "\n",
    "            model = clf.train(params, train_matrix, 50000, valid_sets=[train_matrix, valid_matrix], \n",
    "                              categorical_feature=[], verbose_eval=3000, early_stopping_rounds=200)\n",
    "            val_pred = model.predict(val_x, num_iteration=model.best_iteration)\n",
    "            test_pred = model.predict(test_x, num_iteration=model.best_iteration)\n",
    "            \n",
    "            #print(list(sorted(zip(features, model.feature_importance(\"gain\")), key=lambda x: x[1], reverse=True))[:20])\n",
    "                \n",
    "        if clf_name == \"xgb\":\n",
    "            train_matrix = clf.DMatrix(trn_x , label=trn_y)\n",
    "            valid_matrix = clf.DMatrix(val_x , label=val_y)\n",
    "            test_matrix = clf.DMatrix(test_x)\n",
    "            \n",
    "            params = {'booster': 'gbtree',\n",
    "                      'objective': 'binary:logistic',\n",
    "                      'eval_metric': 'auc',\n",
    "                      'gamma': 1,\n",
    "                      'min_child_weight': 1.5,\n",
    "                      'max_depth': 5,\n",
    "                      'lambda': 10,\n",
    "                      'subsample': 0.7,\n",
    "                      'colsample_bytree': 0.7,\n",
    "                      'colsample_bylevel': 0.7,\n",
    "                      'eta': 0.2,\n",
    "                      'tree_method': 'exact',\n",
    "                      'seed': 2020,\n",
    "                      'nthread': 36,\n",
    "                      \"silent\": True,\n",
    "                      }\n",
    "            \n",
    "            watchlist = [(train_matrix, 'train'),(valid_matrix, 'eval')]\n",
    "            \n",
    "            model = clf.train(params, train_matrix, num_boost_round=50000, evals=watchlist, verbose_eval=3000, early_stopping_rounds=200)\n",
    "            val_pred  = model.predict(valid_matrix, ntree_limit=model.best_ntree_limit)\n",
    "            test_pred = model.predict(test_matrix , ntree_limit=model.best_ntree_limit)\n",
    "                 \n",
    "        if clf_name == \"cat\":\n",
    "            params = {'learning_rate': 0.2, 'depth': 5, 'l2_leaf_reg': 10, 'bootstrap_type': 'Bernoulli',\n",
    "                      'od_type': 'Iter', 'od_wait': 50, 'random_seed': 11, 'allow_writing_files': False}\n",
    "            \n",
    "            model = clf(iterations=20000, **params)\n",
    "            model.fit(trn_x, trn_y, eval_set=(val_x, val_y),\n",
    "                      cat_features=[], use_best_model=True, verbose=3000)\n",
    "            \n",
    "            val_pred  = model.predict(val_x)\n",
    "            test_pred = model.predict(test_x)\n",
    "        \n",
    "        test_pred_sum += test_pred\n",
    "        #计算当前折验证集auc\n",
    "        #train[valid_index] = np.argmax(val_pred)\n",
    "        cv_scores.append(roc_auc_score(val_y, val_pred))\n",
    "        print(\"cur fold auc:{}\".format(roc_auc_score(val_y, val_pred)))\n",
    "        print(\"test_pred:{}\".format(test_pred))\n",
    "       \n",
    "    test = test_pred_sum/folds\n",
    "    print(test)  \n",
    "    print(\"%s_scotrainre_list:\" % clf_name, cv_scores)\n",
    "    print(\"%s_score_mean:\" % clf_name, np.mean(cv_scores))\n",
    "    #print(\"%s_score_std:\" % clf_name, np.std(cv_scores))\n",
    "    return _,test\n",
    "    \n",
    "def lgb_model(x_train, y_train, x_test):\n",
    "    lgb_train, lgb_test = cv_model(lgb, x_train, y_train, x_test, \"lgb\")\n",
    "    return lgb_train, lgb_test\n",
    "\n",
    "def xgb_model(x_train, y_train, x_test):\n",
    "    xgb_train, xgb_test = cv_model(xgb, x_train, y_train, x_test, \"xgb\")\n",
    "    return xgb_train, xgb_test\n",
    "\n",
    "def cat_model(x_train, y_train, x_test):\n",
    "    cat_train, cat_test = cv_model(CatBoostRegressor, x_train, y_train, x_test, \"cat\") \n",
    "    return cat_train, cat_test\n",
    "    \n"
   ]
  },
  {
   "cell_type": "code",
   "execution_count": 25,
   "metadata": {},
   "outputs": [
    {
     "name": "stdout",
     "output_type": "stream",
     "text": [
      "************************************lgb***1 ************************************\n",
      "[LightGBM] [Info] Number of positive: 60072, number of negative: 59928\n",
      "[LightGBM] [Warning] Auto-choosing col-wise multi-threading, the overhead of testing was 0.019535 seconds.\n",
      "You can set `force_col_wise=true` to remove the overhead.\n",
      "[LightGBM] [Info] Total Bins 10515\n",
      "[LightGBM] [Info] Number of data points in the train set: 120000, number of used features: 67\n",
      "[LightGBM] [Info] [binary:BoostFromScore]: pavg=0.500600 -> initscore=0.002400\n",
      "[LightGBM] [Info] Start training from score 0.002400\n",
      "Training until validation scores don't improve for 200 rounds\n",
      "[3000]\ttraining's auc: 0.999516\tvalid_1's auc: 0.812108\n",
      "[6000]\ttraining's auc: 1\tvalid_1's auc: 0.832951\n",
      "[9000]\ttraining's auc: 1\tvalid_1's auc: 0.840899\n",
      "Early stopping, best iteration is:\n",
      "[11399]\ttraining's auc: 1\tvalid_1's auc: 0.843936\n",
      "cur fold auc:0.8439362868562585\n",
      "test_pred:[0.06710624 0.45017989 0.57029843 ... 0.00669365 0.01180139 0.11240266]\n",
      "************************************lgb***2 ************************************\n",
      "[LightGBM] [Info] Number of positive: 59900, number of negative: 60100\n",
      "[LightGBM] [Warning] Auto-choosing col-wise multi-threading, the overhead of testing was 0.020626 seconds.\n",
      "You can set `force_col_wise=true` to remove the overhead.\n",
      "[LightGBM] [Info] Total Bins 10528\n",
      "[LightGBM] [Info] Number of data points in the train set: 120000, number of used features: 67\n",
      "[LightGBM] [Info] [binary:BoostFromScore]: pavg=0.499167 -> initscore=-0.003333\n",
      "[LightGBM] [Info] Start training from score -0.003333\n",
      "Training until validation scores don't improve for 200 rounds\n",
      "[3000]\ttraining's auc: 0.999531\tvalid_1's auc: 0.81211\n",
      "[6000]\ttraining's auc: 1\tvalid_1's auc: 0.832441\n",
      "[9000]\ttraining's auc: 1\tvalid_1's auc: 0.83953\n",
      "[12000]\ttraining's auc: 1\tvalid_1's auc: 0.84293\n",
      "Early stopping, best iteration is:\n",
      "[12210]\ttraining's auc: 1\tvalid_1's auc: 0.843058\n",
      "cur fold auc:0.8430577396278305\n",
      "test_pred:[0.07065595 0.80478686 0.46927735 ... 0.01736429 0.29456223 0.68315771]\n",
      "************************************lgb***3 ************************************\n",
      "[LightGBM] [Info] Number of positive: 60098, number of negative: 59902\n",
      "[LightGBM] [Warning] Auto-choosing col-wise multi-threading, the overhead of testing was 0.018471 seconds.\n",
      "You can set `force_col_wise=true` to remove the overhead.\n",
      "[LightGBM] [Info] Total Bins 10513\n",
      "[LightGBM] [Info] Number of data points in the train set: 120000, number of used features: 67\n",
      "[LightGBM] [Info] [binary:BoostFromScore]: pavg=0.500817 -> initscore=0.003267\n",
      "[LightGBM] [Info] Start training from score 0.003267\n",
      "Training until validation scores don't improve for 200 rounds\n",
      "[3000]\ttraining's auc: 0.999479\tvalid_1's auc: 0.816165\n",
      "[6000]\ttraining's auc: 1\tvalid_1's auc: 0.835227\n",
      "[9000]\ttraining's auc: 1\tvalid_1's auc: 0.842783\n",
      "Early stopping, best iteration is:\n",
      "[10972]\ttraining's auc: 1\tvalid_1's auc: 0.845106\n",
      "cur fold auc:0.8451055611157318\n",
      "test_pred:[0.87287542 0.6052377  0.50096934 ... 0.02751609 0.03941648 0.25687852]\n",
      "************************************lgb***4 ************************************\n",
      "[LightGBM] [Info] Number of positive: 59934, number of negative: 60066\n",
      "[LightGBM] [Warning] Auto-choosing col-wise multi-threading, the overhead of testing was 0.019372 seconds.\n",
      "You can set `force_col_wise=true` to remove the overhead.\n",
      "[LightGBM] [Info] Total Bins 10521\n",
      "[LightGBM] [Info] Number of data points in the train set: 120000, number of used features: 67\n",
      "[LightGBM] [Info] [binary:BoostFromScore]: pavg=0.499450 -> initscore=-0.002200\n",
      "[LightGBM] [Info] Start training from score -0.002200\n",
      "Training until validation scores don't improve for 200 rounds\n",
      "[3000]\ttraining's auc: 0.999563\tvalid_1's auc: 0.811568\n",
      "[6000]\ttraining's auc: 1\tvalid_1's auc: 0.833085\n",
      "[9000]\ttraining's auc: 1\tvalid_1's auc: 0.840568\n",
      "Early stopping, best iteration is:\n",
      "[10815]\ttraining's auc: 1\tvalid_1's auc: 0.842836\n",
      "cur fold auc:0.8428364570863798\n",
      "test_pred:[0.06881698 0.2435397  0.9716752  ... 0.04134794 0.03096682 0.2016192 ]\n",
      "************************************lgb***5 ************************************\n",
      "[LightGBM] [Info] Number of positive: 60164, number of negative: 59836\n",
      "[LightGBM] [Warning] Auto-choosing col-wise multi-threading, the overhead of testing was 0.019488 seconds.\n",
      "You can set `force_col_wise=true` to remove the overhead.\n",
      "[LightGBM] [Info] Total Bins 10530\n",
      "[LightGBM] [Info] Number of data points in the train set: 120000, number of used features: 67\n",
      "[LightGBM] [Info] [binary:BoostFromScore]: pavg=0.501367 -> initscore=0.005467\n",
      "[LightGBM] [Info] Start training from score 0.005467\n",
      "Training until validation scores don't improve for 200 rounds\n",
      "[3000]\ttraining's auc: 0.999484\tvalid_1's auc: 0.812766\n",
      "[6000]\ttraining's auc: 1\tvalid_1's auc: 0.833513\n",
      "[9000]\ttraining's auc: 1\tvalid_1's auc: 0.840732\n",
      "[12000]\ttraining's auc: 1\tvalid_1's auc: 0.843099\n",
      "Early stopping, best iteration is:\n",
      "[12570]\ttraining's auc: 1\tvalid_1's auc: 0.84359\n",
      "cur fold auc:0.8435898444055294\n",
      "test_pred:[0.14818592 0.72372192 0.34609026 ... 0.00724895 0.03200531 0.60171444]\n",
      "[0.2455281  0.56549321 0.57166211 ... 0.02003418 0.08175044 0.37115451]\n",
      "lgb_scotrainre_list: [0.8439362868562585, 0.8430577396278305, 0.8451055611157318, 0.8428364570863798, 0.8435898444055294]\n",
      "lgb_score_mean: 0.843705177818346\n"
     ]
    }
   ],
   "source": [
    "lgb_train, lgb_test = lgb_model(x_train, y_train, x_test)\n",
    "#xgb_train, xgb_test = xgb_model(x_train, y_train, x_test)\n",
    "#cat_train, cat_test = cat_model(x_train, y_train, x_test)\n",
    "#final_test = (lgb_test + xgb_test + cat_test) / 3"
   ]
  },
  {
   "cell_type": "code",
   "execution_count": 26,
   "metadata": {},
   "outputs": [
    {
     "data": {
      "text/plain": [
       "array([0.2455281 , 0.56549321, 0.57166211, ..., 0.02003418, 0.08175044,\n",
       "       0.37115451])"
      ]
     },
     "execution_count": 26,
     "metadata": {},
     "output_type": "execute_result"
    }
   ],
   "source": [
    "lgb_test"
   ]
  },
  {
   "cell_type": "code",
   "execution_count": 14,
   "metadata": {},
   "outputs": [],
   "source": [
    "test['是否流失'] = final_test\n",
    "test[['客户ID','是否流失']].to_csv('./data/test_sub.csv', index=False)"
   ]
  },
  {
   "cell_type": "code",
   "execution_count": 27,
   "metadata": {},
   "outputs": [],
   "source": [
    "test['是否流失'] = lgb_test\n",
    "test[['客户ID','是否流失']].to_csv('./data/lgb_test_sub.csv', index=False)"
   ]
  },
  {
   "cell_type": "code",
   "execution_count": 16,
   "metadata": {},
   "outputs": [],
   "source": [
    "test['是否流失'] = xgb_test\n",
    "test[['客户ID','是否流失']].to_csv('./data/xgb_test_sub.csv', index=False)"
   ]
  },
  {
   "cell_type": "code",
   "execution_count": 17,
   "metadata": {},
   "outputs": [],
   "source": [
    "test['是否流失'] = cat_test\n",
    "test[['客户ID','是否流失']].to_csv('./data/cat_test_sub.csv', index=False)"
   ]
  }
 ],
 "metadata": {
  "kernelspec": {
   "display_name": "Python 3",
   "language": "python",
   "name": "python3"
  },
  "language_info": {
   "codemirror_mode": {
    "name": "ipython",
    "version": 3
   },
   "file_extension": ".py",
   "mimetype": "text/x-python",
   "name": "python",
   "nbconvert_exporter": "python",
   "pygments_lexer": "ipython3",
   "version": "3.8.5"
  }
 },
 "nbformat": 4,
 "nbformat_minor": 4
}
