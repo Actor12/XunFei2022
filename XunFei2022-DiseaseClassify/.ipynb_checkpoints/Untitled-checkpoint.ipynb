{
 "cells": [
  {
   "cell_type": "markdown",
   "metadata": {},
   "source": [
    "### https://mp.weixin.qq.com/s/KiozLF7FaJ_CVx74J3KNWA"
   ]
  },
  {
   "cell_type": "markdown",
   "metadata": {},
   "source": [
    "### 赛题描述：\n",
    "赛题是一个比较典型的多任务文本分类赛题，因此可以考虑使用文本分类的模型来完成。与传统的文本比赛相比，本文赛题需要注意以下几点：\n",
    "\n",
    "1.标签分布不均衡，包含缺失标记\n",
    "2.赛题文本如何聚合？文本最大长度设置？\n",
    "3.如何使用外部的知识文本完成建模？"
   ]
  },
  {
   "cell_type": "code",
   "execution_count": 1,
   "metadata": {},
   "outputs": [],
   "source": [
    "import pandas as pd\n",
    "import numpy as np\n",
    "import seaborn as sns\n",
    "import jieba"
   ]
  },
  {
   "cell_type": "code",
   "execution_count": 2,
   "metadata": {},
   "outputs": [],
   "source": [
    "train_df = pd.read_excel('./data/data_train.xlsx')\n",
    "test_df = pd.read_excel('./data/data_test.xlsx')\n",
    "test_submit = pd.read_csv('./data/提交示例.csv')"
   ]
  },
  {
   "cell_type": "code",
   "execution_count": 3,
   "metadata": {},
   "outputs": [
    {
     "data": {
      "text/html": [
       "<div>\n",
       "<style scoped>\n",
       "    .dataframe tbody tr th:only-of-type {\n",
       "        vertical-align: middle;\n",
       "    }\n",
       "\n",
       "    .dataframe tbody tr th {\n",
       "        vertical-align: top;\n",
       "    }\n",
       "\n",
       "    .dataframe thead th {\n",
       "        text-align: right;\n",
       "    }\n",
       "</style>\n",
       "<table border=\"1\" class=\"dataframe\">\n",
       "  <thead>\n",
       "    <tr style=\"text-align: right;\">\n",
       "      <th></th>\n",
       "      <th>id</th>\n",
       "      <th>age</th>\n",
       "      <th>diseaseName</th>\n",
       "      <th>conditionDesc</th>\n",
       "      <th>title</th>\n",
       "      <th>hopeHelp</th>\n",
       "      <th>label_i</th>\n",
       "      <th>label_j</th>\n",
       "    </tr>\n",
       "  </thead>\n",
       "  <tbody>\n",
       "    <tr>\n",
       "      <th>0</th>\n",
       "      <td>0</td>\n",
       "      <td>20+</td>\n",
       "      <td>刨腹产可以养三胎吗？</td>\n",
       "      <td>刨腹产可以养三胎吗？希望医生能帮我看看，谢谢！</td>\n",
       "      <td>刨腹产可以养三胎吗？</td>\n",
       "      <td>前两个都是刨腹产，时间已经隔了有6年了，前两个都很顺利，想问问医生现在可以养三胎吗？</td>\n",
       "      <td>1</td>\n",
       "      <td>8</td>\n",
       "    </tr>\n",
       "    <tr>\n",
       "      <th>1</th>\n",
       "      <td>1</td>\n",
       "      <td>20+</td>\n",
       "      <td>右膝前交叉韧带断裂，半月板三度重度损伤</td>\n",
       "      <td>右膝受力小腿骨和大腿骨就会滑开，走路会有隐隐作痛</td>\n",
       "      <td>大概做韧带重建手术需要多少费用？</td>\n",
       "      <td>大概做韧带重建手术需要多少费用？</td>\n",
       "      <td>18</td>\n",
       "      <td>57</td>\n",
       "    </tr>\n",
       "    <tr>\n",
       "      <th>2</th>\n",
       "      <td>2</td>\n",
       "      <td>30+</td>\n",
       "      <td>没有不适，就是左眼球有红色充血</td>\n",
       "      <td>昨天我朋友跟我说，我的左眼睛有红色的问我怎么啦，我自己都不知道，所以现在问医生看需要去医院吗...</td>\n",
       "      <td>需要怎么治疗</td>\n",
       "      <td>需要怎么治疗</td>\n",
       "      <td>15</td>\n",
       "      <td>45</td>\n",
       "    </tr>\n",
       "    <tr>\n",
       "      <th>3</th>\n",
       "      <td>3</td>\n",
       "      <td>30+</td>\n",
       "      <td>腿摔了</td>\n",
       "      <td>一个月前从摩托上摔下来了，拍了片子和核磁共振，打的石膏，腿直不了</td>\n",
       "      <td>腿可能这辈子就瘸了</td>\n",
       "      <td>请医生给我一些治疗上的建议，目前病情是否需要手术？，是否需要就诊？就诊前做哪些准备？</td>\n",
       "      <td>18</td>\n",
       "      <td>58</td>\n",
       "    </tr>\n",
       "    <tr>\n",
       "      <th>4</th>\n",
       "      <td>4</td>\n",
       "      <td>30+</td>\n",
       "      <td>体检单问题</td>\n",
       "      <td>偶尔会拉肚子或便秘 胃肠偶尔不舒服 没有疼痛感</td>\n",
       "      <td>体检单问题咨询 需要治疗吗</td>\n",
       "      <td>单位体检遇到的问题</td>\n",
       "      <td>2</td>\n",
       "      <td>-1</td>\n",
       "    </tr>\n",
       "  </tbody>\n",
       "</table>\n",
       "</div>"
      ],
      "text/plain": [
       "   id  age          diseaseName  \\\n",
       "0   0  20+           刨腹产可以养三胎吗？   \n",
       "1   1  20+  右膝前交叉韧带断裂，半月板三度重度损伤   \n",
       "2   2  30+      没有不适，就是左眼球有红色充血   \n",
       "3   3  30+                  腿摔了   \n",
       "4   4  30+                体检单问题   \n",
       "\n",
       "                                       conditionDesc             title  \\\n",
       "0                            刨腹产可以养三胎吗？希望医生能帮我看看，谢谢！        刨腹产可以养三胎吗？   \n",
       "1                           右膝受力小腿骨和大腿骨就会滑开，走路会有隐隐作痛  大概做韧带重建手术需要多少费用？   \n",
       "2  昨天我朋友跟我说，我的左眼睛有红色的问我怎么啦，我自己都不知道，所以现在问医生看需要去医院吗...           需要怎么治疗　   \n",
       "3                   一个月前从摩托上摔下来了，拍了片子和核磁共振，打的石膏，腿直不了         腿可能这辈子就瘸了   \n",
       "4                            偶尔会拉肚子或便秘 胃肠偶尔不舒服 没有疼痛感     体检单问题咨询 需要治疗吗   \n",
       "\n",
       "                                     hopeHelp  label_i  label_j  \n",
       "0  前两个都是刨腹产，时间已经隔了有6年了，前两个都很顺利，想问问医生现在可以养三胎吗？        1        8  \n",
       "1                            大概做韧带重建手术需要多少费用？       18       57  \n",
       "2                                      需要怎么治疗       15       45  \n",
       "3  请医生给我一些治疗上的建议，目前病情是否需要手术？，是否需要就诊？就诊前做哪些准备？       18       58  \n",
       "4                                   单位体检遇到的问题        2       -1  "
      ]
     },
     "execution_count": 3,
     "metadata": {},
     "output_type": "execute_result"
    }
   ],
   "source": [
    "train_df.head()"
   ]
  },
  {
   "cell_type": "markdown",
   "metadata": {},
   "source": [
    "### EDA"
   ]
  },
  {
   "cell_type": "code",
   "execution_count": 5,
   "metadata": {},
   "outputs": [
    {
     "data": {
      "text/plain": [
       "<AxesSubplot:>"
      ]
     },
     "execution_count": 5,
     "metadata": {},
     "output_type": "execute_result"
    },
    {
     "data": {
      "image/png": "[encoded data removed]",
      "text/plain": [
       "<Figure size 432x288 with 1 Axes>"
      ]
     },
     "metadata": {
      "needs_background": "light"
     },
     "output_type": "display_data"
    }
   ],
   "source": [
    "train_df['label_i'].value_counts().plot(kind='barh')"
   ]
  },
  {
   "cell_type": "code",
   "execution_count": 6,
   "metadata": {},
   "outputs": [
    {
     "data": {
      "text/plain": [
       "<AxesSubplot:>"
      ]
     },
     "execution_count": 6,
     "metadata": {},
     "output_type": "execute_result"
    },
    {
     "data": {
      "image/png": "[encoded data removed]",
      "text/plain": [
       "<Figure size 432x288 with 1 Axes>"
      ]
     },
     "metadata": {
      "needs_background": "light"
     },
     "output_type": "display_data"
    }
   ],
   "source": [
    "\n",
    "train_df['label_j'].value_counts().plot(kind='barh')"
   ]
  },
  {
   "cell_type": "code",
   "execution_count": 7,
   "metadata": {},
   "outputs": [
    {
     "data": {
      "text/plain": [
       "<seaborn.axisgrid.FacetGrid at 0x1d218ea4730>"
      ]
     },
     "execution_count": 7,
     "metadata": {},
     "output_type": "execute_result"
    },
    {
     "data": {
      "image/png": "[encoded data removed]",
      "text/plain": [
       "<Figure size 360x360 with 1 Axes>"
      ]
     },
     "metadata": {
      "needs_background": "light"
     },
     "output_type": "display_data"
    }
   ],
   "source": [
    "#文本长度\n",
    "sns.displot(train_df['diseaseName'].apply(len))"
   ]
  },
  {
   "cell_type": "code",
   "execution_count": 8,
   "metadata": {
    "collapsed": true
   },
   "outputs": [
    {
     "data": {
      "text/plain": [
       "<seaborn.axisgrid.FacetGrid at 0x1d2191a0160>"
      ]
     },
     "execution_count": 8,
     "metadata": {},
     "output_type": "execute_result"
    },
    {
     "data": {
      "image/png": "[encoded data removed]",
      "text/plain": [
       "<Figure size 360x360 with 1 Axes>"
      ]
     },
     "metadata": {
      "needs_background": "light"
     },
     "output_type": "display_data"
    }
   ],
   "source": [
    "sns.displot(train_df['conditionDesc'].apply(len))"
   ]
  },
  {
   "cell_type": "markdown",
   "metadata": {},
   "source": [
    "### 模型1：TFIDF"
   ]
  },
  {
   "cell_type": "markdown",
   "metadata": {},
   "source": [
    "#### 在一个模型中我们使用基础的TFIDF + 逻辑回归来完成"
   ]
  },
  {
   "cell_type": "code",
   "execution_count": 9,
   "metadata": {},
   "outputs": [],
   "source": [
    "#拼接所有文本\n",
    "train_text = train_df['diseaseName'] + ' ' + train_df['conditionDesc'] + ' ' + train_df['title'] + ' ' + train_df['hopeHelp']\n",
    "test_text = test_df['diseaseName'] + ' ' + test_df['conditionDesc'] + ' ' + test_df['title'] + ' ' + test_df['hopeHelp']\n",
    "train_text = train_text.fillna('')\n",
    "test_text = test_text.fillna('')"
   ]
  },
  {
   "cell_type": "code",
   "execution_count": 13,
   "metadata": {},
   "outputs": [
    {
     "name": "stderr",
     "output_type": "stream",
     "text": [
      "Building prefix dict from the default dictionary ...\n",
      "Dumping model to file cache C:\\Users\\ADMINI~1\\AppData\\Local\\Temp\\jieba.cache\n",
      "Loading model cost 0.626 seconds.\n",
      "Prefix dict has been built successfully.\n"
     ]
    }
   ],
   "source": [
    "#使用jieba分词进行分词\n",
    "train_text = [' '.join(jieba.cut(x)) for x in train_text]\n",
    "test_text = [' '.join(jieba.cut(x)) for x in test_text]"
   ]
  },
  {
   "cell_type": "code",
   "execution_count": null,
   "metadata": {},
   "outputs": [],
   "source": [
    "#提取TFIDF特征\n",
    "from sklearn.feature_extraction.text import TfidfVectorizer\n",
    "from sklearn.linear_model import LogisticRegression\n",
    "\n",
    "tfidf = TfidfVectorizer().fit(train_text)\n",
    "train_tfidf = tfidf.fit_transform(train_text)\n",
    "test_tfidf = tfidf.transform(test_text)"
   ]
  },
  {
   "cell_type": "code",
   "execution_count": null,
   "metadata": {},
   "outputs": [],
   "source": [
    "#训练两个逻辑回归做分类\n",
    "clf_i = LogisticRegression()\n",
    "clf_i.fit(train_tfidf, train_df['label_i'])\n",
    "\n",
    "clf_j = LogisticRegression()\n",
    "clf_j.fit(train_tfidf, train_df['label_j'])"
   ]
  },
  {
   "cell_type": "code",
   "execution_count": null,
   "metadata": {},
   "outputs": [],
   "source": [
    "test_submit['label_i'] = clf_i.predict(test_tfidf)\n",
    "test_submit['label_j'] = clf_j.predict(test_tfidf)\n",
    "\n",
    "test_submit.to_csv('tfidf_submit.csv', index=None)"
   ]
  },
  {
   "cell_type": "markdown",
   "metadata": {},
   "source": [
    "### 模型2：bert"
   ]
  },
  {
   "cell_type": "markdown",
   "metadata": {},
   "source": [
    "#### 在第一个模型中我们尝试使用BERT来完成多任务分类，我们将BERT最终的输出改为两个全连接层，得到两个标签的预测。"
   ]
  },
  {
   "cell_type": "code",
   "execution_count": 4,
   "metadata": {},
   "outputs": [],
   "source": [
    "import torch\n",
    "from torch import nn\n",
    "from transformers import BertPreTrainedModel\n",
    "from transformers import AutoTokenizer, AutoModelForMaskedLM, AutoConfig, BertModel,BertConfig,BertTokenizer, AutoModel"
   ]
  },
  {
   "cell_type": "code",
   "execution_count": 18,
   "metadata": {},
   "outputs": [],
   "source": [
    "# tokenizer = AutoTokenizer.from_pretrained(\"chinese_roberta_wwm_ext\")\n",
    "# config = AutoConfig.from_pretrained(\"chinese_roberta_wwm_ext\")\n",
    "# model = AutoModel.from_pretrained(r\"F:\\数据集和模型\\hf\\chinese_roberta_wwm_ext\")\n",
    "\n",
    "tokenizer = AutoTokenizer.from_pretrained(r\"F://数据集和模型//hf//chinese_roberta_wwm_ext//\")\n",
    "config = AutoConfig.from_pretrained(r\"F://数据集和模型//hf//chinese_roberta_wwm_ext//\")"
   ]
  },
  {
   "cell_type": "code",
   "execution_count": 19,
   "metadata": {},
   "outputs": [],
   "source": [
    "class XunFeiModel(nn.Module):\n",
    "    def __init__(self, num_labels_i, num_labels_j): \n",
    "        super(XunFeiModel,self).__init__() \n",
    "\n",
    "        #Load Model with given checkpoint and extract its body\n",
    "        self.model = model = AutoModel.from_pretrained(\"F://数据集和模型//hf//chinese_roberta_wwm_ext//\")\n",
    "        self.dropout = nn.Dropout(0.1) \n",
    "        self.classifier_i = nn.Linear(768, num_labels_i)\n",
    "        self.classifier_j = nn.Linear(768, num_labels_j)\n",
    "\n",
    "    def forward(self, input_ids=None, attention_mask=None,labels=None):\n",
    "        outputs = self.model(input_ids=input_ids, attention_mask=attention_mask)\n",
    "        sequence_output = self.dropout(outputs[0]) #outputs[0]=last hidden state\n",
    "    \n",
    "        logits_i = self.classifier_i(sequence_output[:,0,:].view(-1,768))\n",
    "        logits_j = self.classifier_j(sequence_output[:,0,:].view(-1,768))\n",
    "        \n",
    "        return logits_i, logits_j"
   ]
  },
  {
   "cell_type": "code",
   "execution_count": 20,
   "metadata": {},
   "outputs": [],
   "source": [
    "train_text = train_df['diseaseName'] + ' ' + train_df['conditionDesc'] + ' ' + train_df['title'] + ' ' + train_df['hopeHelp']\n",
    "test_text = test_df['diseaseName'] + ' ' + test_df['conditionDesc'] + ' ' + test_df['title'] + ' ' + test_df['hopeHelp']\n",
    "train_text = train_text.fillna('')\n",
    "test_text = test_text.fillna('')\n",
    "#拼接文本与编码\n",
    "train_encoding = tokenizer(train_text.tolist()[:-1000], truncation=True, padding=True, max_length=200)\n",
    "val_encoding = tokenizer(train_text.tolist()[-1000:], truncation=True, padding=True, max_length=200)\n",
    "test_encoding = tokenizer(test_text.tolist(), truncation=True, padding=True, max_length=200)"
   ]
  },
  {
   "cell_type": "code",
   "execution_count": 21,
   "metadata": {},
   "outputs": [],
   "source": [
    "from torch.utils.data import Dataset, DataLoader, TensorDataset\n",
    "\n",
    "# 数据集读取\n",
    "class XunFeiDataset(Dataset):\n",
    "    def __init__(self, encodings, label_i, label_j):\n",
    "        self.encodings = encodings\n",
    "        self.label_i = label_i\n",
    "        self.label_j = label_j\n",
    "    \n",
    "    # 读取单个样本\n",
    "    def __getitem__(self, idx):\n",
    "        item = {key: torch.tensor(val[idx]) for key, val in self.encodings.items()}\n",
    "        item['label_i'] = torch.tensor(int(self.label_i[idx]))\n",
    "        item['label_j'] = torch.tensor(int(self.label_j[idx]))\n",
    "        return item\n",
    "    \n",
    "    def __len__(self):\n",
    "        return len(self.label_i)\n",
    "\n",
    "train_dataset = XunFeiDataset(train_encoding, \n",
    "                              train_df['label_i'].values[:-1000], \n",
    "                              train_df['label_j'].values[:-1000])\n",
    "val_dataset = XunFeiDataset(val_encoding, \n",
    "                              train_df['label_i'].values[-1000:], \n",
    "                              train_df['label_j'].values[-1000:])\n",
    "test_dataset = XunFeiDataset(test_encoding, [0] * len(test_df), [0] * len(test_df))"
   ]
  },
  {
   "cell_type": "code",
   "execution_count": 22,
   "metadata": {},
   "outputs": [],
   "source": [
    "# 单个读取到批量读取\n",
    "train_loader = DataLoader(train_dataset, batch_size=32, shuffle=False)# 在windows中，numworkers失效！num_workers=4,pin_memory=True\n",
    "val_dataloader = DataLoader(val_dataset, batch_size=32, shuffle=False)\n",
    "test_dataloader = DataLoader(test_dataset, batch_size=32, shuffle=False)"
   ]
  },
  {
   "cell_type": "code",
   "execution_count": 23,
   "metadata": {},
   "outputs": [],
   "source": [
    "model = XunFeiModel(20, 61)\n",
    "device = torch.device(\"cuda\" if torch.cuda.is_available() else \"cpu\")\n",
    "# device = 'cpu'\n",
    "model = model.to(device)"
   ]
  },
  {
   "cell_type": "code",
   "execution_count": 24,
   "metadata": {
    "collapsed": true
   },
   "outputs": [
    {
     "name": "stdout",
     "output_type": "stream",
     "text": [
      "model.embeddings.word_embeddings.weight\n",
      "model.embeddings.position_embeddings.weight\n",
      "model.embeddings.token_type_embeddings.weight\n",
      "model.embeddings.LayerNorm.weight\n",
      "model.embeddings.LayerNorm.bias\n",
      "model.encoder.layer.0.attention.self.query.weight\n",
      "model.encoder.layer.0.attention.self.query.bias\n",
      "model.encoder.layer.0.attention.self.key.weight\n",
      "model.encoder.layer.0.attention.self.key.bias\n",
      "model.encoder.layer.0.attention.self.value.weight\n",
      "model.encoder.layer.0.attention.self.value.bias\n",
      "model.encoder.layer.0.attention.output.dense.weight\n",
      "model.encoder.layer.0.attention.output.dense.bias\n",
      "model.encoder.layer.0.attention.output.LayerNorm.weight\n",
      "model.encoder.layer.0.attention.output.LayerNorm.bias\n",
      "model.encoder.layer.0.intermediate.dense.weight\n",
      "model.encoder.layer.0.intermediate.dense.bias\n",
      "model.encoder.layer.0.output.dense.weight\n",
      "model.encoder.layer.0.output.dense.bias\n",
      "model.encoder.layer.0.output.LayerNorm.weight\n",
      "model.encoder.layer.0.output.LayerNorm.bias\n",
      "model.encoder.layer.1.attention.self.query.weight\n",
      "model.encoder.layer.1.attention.self.query.bias\n",
      "model.encoder.layer.1.attention.self.key.weight\n",
      "model.encoder.layer.1.attention.self.key.bias\n",
      "model.encoder.layer.1.attention.self.value.weight\n",
      "model.encoder.layer.1.attention.self.value.bias\n",
      "model.encoder.layer.1.attention.output.dense.weight\n",
      "model.encoder.layer.1.attention.output.dense.bias\n",
      "model.encoder.layer.1.attention.output.LayerNorm.weight\n",
      "model.encoder.layer.1.attention.output.LayerNorm.bias\n",
      "model.encoder.layer.1.intermediate.dense.weight\n",
      "model.encoder.layer.1.intermediate.dense.bias\n",
      "model.encoder.layer.1.output.dense.weight\n",
      "model.encoder.layer.1.output.dense.bias\n",
      "model.encoder.layer.1.output.LayerNorm.weight\n",
      "model.encoder.layer.1.output.LayerNorm.bias\n",
      "model.encoder.layer.2.attention.self.query.weight\n",
      "model.encoder.layer.2.attention.self.query.bias\n",
      "model.encoder.layer.2.attention.self.key.weight\n",
      "model.encoder.layer.2.attention.self.key.bias\n",
      "model.encoder.layer.2.attention.self.value.weight\n",
      "model.encoder.layer.2.attention.self.value.bias\n",
      "model.encoder.layer.2.attention.output.dense.weight\n",
      "model.encoder.layer.2.attention.output.dense.bias\n",
      "model.encoder.layer.2.attention.output.LayerNorm.weight\n",
      "model.encoder.layer.2.attention.output.LayerNorm.bias\n",
      "model.encoder.layer.2.intermediate.dense.weight\n",
      "model.encoder.layer.2.intermediate.dense.bias\n",
      "model.encoder.layer.2.output.dense.weight\n",
      "model.encoder.layer.2.output.dense.bias\n",
      "model.encoder.layer.2.output.LayerNorm.weight\n",
      "model.encoder.layer.2.output.LayerNorm.bias\n",
      "model.encoder.layer.3.attention.self.query.weight\n",
      "model.encoder.layer.3.attention.self.query.bias\n",
      "model.encoder.layer.3.attention.self.key.weight\n",
      "model.encoder.layer.3.attention.self.key.bias\n",
      "model.encoder.layer.3.attention.self.value.weight\n",
      "model.encoder.layer.3.attention.self.value.bias\n",
      "model.encoder.layer.3.attention.output.dense.weight\n",
      "model.encoder.layer.3.attention.output.dense.bias\n",
      "model.encoder.layer.3.attention.output.LayerNorm.weight\n",
      "model.encoder.layer.3.attention.output.LayerNorm.bias\n",
      "model.encoder.layer.3.intermediate.dense.weight\n",
      "model.encoder.layer.3.intermediate.dense.bias\n",
      "model.encoder.layer.3.output.dense.weight\n",
      "model.encoder.layer.3.output.dense.bias\n",
      "model.encoder.layer.3.output.LayerNorm.weight\n",
      "model.encoder.layer.3.output.LayerNorm.bias\n",
      "model.encoder.layer.4.attention.self.query.weight\n",
      "model.encoder.layer.4.attention.self.query.bias\n",
      "model.encoder.layer.4.attention.self.key.weight\n",
      "model.encoder.layer.4.attention.self.key.bias\n",
      "model.encoder.layer.4.attention.self.value.weight\n",
      "model.encoder.layer.4.attention.self.value.bias\n",
      "model.encoder.layer.4.attention.output.dense.weight\n",
      "model.encoder.layer.4.attention.output.dense.bias\n",
      "model.encoder.layer.4.attention.output.LayerNorm.weight\n",
      "model.encoder.layer.4.attention.output.LayerNorm.bias\n",
      "model.encoder.layer.4.intermediate.dense.weight\n",
      "model.encoder.layer.4.intermediate.dense.bias\n",
      "model.encoder.layer.4.output.dense.weight\n",
      "model.encoder.layer.4.output.dense.bias\n",
      "model.encoder.layer.4.output.LayerNorm.weight\n",
      "model.encoder.layer.4.output.LayerNorm.bias\n",
      "model.encoder.layer.5.attention.self.query.weight\n",
      "model.encoder.layer.5.attention.self.query.bias\n",
      "model.encoder.layer.5.attention.self.key.weight\n",
      "model.encoder.layer.5.attention.self.key.bias\n",
      "model.encoder.layer.5.attention.self.value.weight\n",
      "model.encoder.layer.5.attention.self.value.bias\n",
      "model.encoder.layer.5.attention.output.dense.weight\n",
      "model.encoder.layer.5.attention.output.dense.bias\n",
      "model.encoder.layer.5.attention.output.LayerNorm.weight\n",
      "model.encoder.layer.5.attention.output.LayerNorm.bias\n",
      "model.encoder.layer.5.intermediate.dense.weight\n",
      "model.encoder.layer.5.intermediate.dense.bias\n",
      "model.encoder.layer.5.output.dense.weight\n",
      "model.encoder.layer.5.output.dense.bias\n",
      "model.encoder.layer.5.output.LayerNorm.weight\n",
      "model.encoder.layer.5.output.LayerNorm.bias\n",
      "model.encoder.layer.6.attention.self.query.weight\n",
      "model.encoder.layer.6.attention.self.query.bias\n",
      "model.encoder.layer.6.attention.self.key.weight\n",
      "model.encoder.layer.6.attention.self.key.bias\n",
      "model.encoder.layer.6.attention.self.value.weight\n",
      "model.encoder.layer.6.attention.self.value.bias\n",
      "model.encoder.layer.6.attention.output.dense.weight\n",
      "model.encoder.layer.6.attention.output.dense.bias\n",
      "model.encoder.layer.6.attention.output.LayerNorm.weight\n",
      "model.encoder.layer.6.attention.output.LayerNorm.bias\n",
      "model.encoder.layer.6.intermediate.dense.weight\n",
      "model.encoder.layer.6.intermediate.dense.bias\n",
      "model.encoder.layer.6.output.dense.weight\n",
      "model.encoder.layer.6.output.dense.bias\n",
      "model.encoder.layer.6.output.LayerNorm.weight\n",
      "model.encoder.layer.6.output.LayerNorm.bias\n",
      "model.encoder.layer.7.attention.self.query.weight\n",
      "model.encoder.layer.7.attention.self.query.bias\n",
      "model.encoder.layer.7.attention.self.key.weight\n",
      "model.encoder.layer.7.attention.self.key.bias\n",
      "model.encoder.layer.7.attention.self.value.weight\n",
      "model.encoder.layer.7.attention.self.value.bias\n",
      "model.encoder.layer.7.attention.output.dense.weight\n",
      "model.encoder.layer.7.attention.output.dense.bias\n",
      "model.encoder.layer.7.attention.output.LayerNorm.weight\n",
      "model.encoder.layer.7.attention.output.LayerNorm.bias\n",
      "model.encoder.layer.7.intermediate.dense.weight\n",
      "model.encoder.layer.7.intermediate.dense.bias\n",
      "model.encoder.layer.7.output.dense.weight\n",
      "model.encoder.layer.7.output.dense.bias\n",
      "model.encoder.layer.7.output.LayerNorm.weight\n",
      "model.encoder.layer.7.output.LayerNorm.bias\n",
      "model.encoder.layer.8.attention.self.query.weight\n",
      "model.encoder.layer.8.attention.self.query.bias\n",
      "model.encoder.layer.8.attention.self.key.weight\n",
      "model.encoder.layer.8.attention.self.key.bias\n",
      "model.encoder.layer.8.attention.self.value.weight\n",
      "model.encoder.layer.8.attention.self.value.bias\n",
      "model.encoder.layer.8.attention.output.dense.weight\n",
      "model.encoder.layer.8.attention.output.dense.bias\n",
      "model.encoder.layer.8.attention.output.LayerNorm.weight\n",
      "model.encoder.layer.8.attention.output.LayerNorm.bias\n",
      "model.encoder.layer.8.intermediate.dense.weight\n",
      "model.encoder.layer.8.intermediate.dense.bias\n",
      "model.encoder.layer.8.output.dense.weight\n",
      "model.encoder.layer.8.output.dense.bias\n",
      "model.encoder.layer.8.output.LayerNorm.weight\n",
      "model.encoder.layer.8.output.LayerNorm.bias\n",
      "model.encoder.layer.9.attention.self.query.weight\n",
      "model.encoder.layer.9.attention.self.query.bias\n",
      "model.encoder.layer.9.attention.self.key.weight\n",
      "model.encoder.layer.9.attention.self.key.bias\n",
      "model.encoder.layer.9.attention.self.value.weight\n",
      "model.encoder.layer.9.attention.self.value.bias\n",
      "model.encoder.layer.9.attention.output.dense.weight\n",
      "model.encoder.layer.9.attention.output.dense.bias\n",
      "model.encoder.layer.9.attention.output.LayerNorm.weight\n",
      "model.encoder.layer.9.attention.output.LayerNorm.bias\n",
      "model.encoder.layer.9.intermediate.dense.weight\n",
      "model.encoder.layer.9.intermediate.dense.bias\n",
      "model.encoder.layer.9.output.dense.weight\n",
      "model.encoder.layer.9.output.dense.bias\n",
      "model.encoder.layer.9.output.LayerNorm.weight\n",
      "model.encoder.layer.9.output.LayerNorm.bias\n",
      "model.encoder.layer.10.attention.self.query.weight\n",
      "model.encoder.layer.10.attention.self.query.bias\n",
      "model.encoder.layer.10.attention.self.key.weight\n",
      "model.encoder.layer.10.attention.self.key.bias\n",
      "model.encoder.layer.10.attention.self.value.weight\n",
      "model.encoder.layer.10.attention.self.value.bias\n",
      "model.encoder.layer.10.attention.output.dense.weight\n",
      "model.encoder.layer.10.attention.output.dense.bias\n",
      "model.encoder.layer.10.attention.output.LayerNorm.weight\n",
      "model.encoder.layer.10.attention.output.LayerNorm.bias\n",
      "model.encoder.layer.10.intermediate.dense.weight\n",
      "model.encoder.layer.10.intermediate.dense.bias\n",
      "model.encoder.layer.10.output.dense.weight\n",
      "model.encoder.layer.10.output.dense.bias\n",
      "model.encoder.layer.10.output.LayerNorm.weight\n",
      "model.encoder.layer.10.output.LayerNorm.bias\n",
      "model.encoder.layer.11.attention.self.query.weight\n",
      "model.encoder.layer.11.attention.self.query.bias\n",
      "model.encoder.layer.11.attention.self.key.weight\n",
      "model.encoder.layer.11.attention.self.key.bias\n",
      "model.encoder.layer.11.attention.self.value.weight\n",
      "model.encoder.layer.11.attention.self.value.bias\n",
      "model.encoder.layer.11.attention.output.dense.weight\n",
      "model.encoder.layer.11.attention.output.dense.bias\n",
      "model.encoder.layer.11.attention.output.LayerNorm.weight\n",
      "model.encoder.layer.11.attention.output.LayerNorm.bias\n",
      "model.encoder.layer.11.intermediate.dense.weight\n",
      "model.encoder.layer.11.intermediate.dense.bias\n",
      "model.encoder.layer.11.output.dense.weight\n",
      "model.encoder.layer.11.output.dense.bias\n",
      "model.encoder.layer.11.output.LayerNorm.weight\n",
      "model.encoder.layer.11.output.LayerNorm.bias\n",
      "model.pooler.dense.weight\n",
      "model.pooler.dense.bias\n",
      "classifier_i.weight\n",
      "classifier_i.bias\n",
      "classifier_j.weight\n",
      "classifier_j.bias\n"
     ]
    }
   ],
   "source": [
    "#查看每层的name\n",
    "for n, p in model.named_parameters():\n",
    "    print(n)"
   ]
  },
  {
   "cell_type": "code",
   "execution_count": 38,
   "metadata": {},
   "outputs": [],
   "source": [
    "from torch.nn import CrossEntropyLoss\n",
    "from torch.optim import AdamW\n",
    "#bert推荐使用AdamW\n",
    "\n",
    "loss_fn = CrossEntropyLoss()\n",
    "#optim = AdamW(model.parameters(), lr=5e-5)\n",
    "\n",
    "new_lr = ['classifier_i','classifier_j']\n",
    "optimizer_grouped_parameters = [\n",
    "    {'params': [p for n, p in model.named_parameters() if 'embeddings' in n]},\n",
    "    {'params': [p for n, p in model.named_parameters() if any(nd in n for nd in new_lr)], \"lr\" : 5e-4}\n",
    "     ]\n",
    "#any(nd in n for nd in [\"classifier_i\",\"classifier_j\"])\n",
    "optim = AdamW(optimizer_grouped_parameters,lr=5e-5)\n"
   ]
  },
  {
   "cell_type": "code",
   "execution_count": 39,
   "metadata": {},
   "outputs": [],
   "source": [
    "def train():\n",
    "    model.train()\n",
    "    total_train_loss = 0\n",
    "    iter_num = 0\n",
    "    total_iter = len(train_loader)\n",
    "    for batch in train_loader:\n",
    "        # 正向传播\n",
    "        optim.zero_grad()\n",
    "        \n",
    "        input_ids = batch['input_ids'].to(device)\n",
    "        attention_mask = batch['attention_mask'].to(device)\n",
    "        label_i = batch['label_i'].to(device)\n",
    "        label_j = batch['label_j'].to(device)\n",
    "\n",
    "        pred_i, pred_j = model(\n",
    "            input_ids, \n",
    "            attention_mask\n",
    "        )\n",
    "        \n",
    "        # 疾病方向标签-1时，不记录损失\n",
    "        valid = label_j != -1\n",
    "        loss = loss_fn(pred_i, label_i)  + loss_fn(pred_j[valid], label_j[valid])\n",
    "        #容易导致两个任务的loss不均衡，后面部分的样本较少，为前面的2/3,可以加系数。上分点\n",
    "        \n",
    "        # 反向梯度信息\n",
    "        loss.backward()\n",
    "        torch.nn.utils.clip_grad_norm_(model.parameters(), 1.0)\n",
    "        \n",
    "        # 参数更新\n",
    "        optim.step()\n",
    "\n",
    "        iter_num += 1\n",
    "        \n",
    "        if(iter_num % 100 == 0):\n",
    "            print(\"iter_num: %d, loss: %.4f, %.2f%% %.4f / %.4f\" % (\n",
    "                iter_num, loss.item(), iter_num/total_iter*100, \n",
    "                (pred_i.argmax(1) == label_i).float().data.cpu().numpy().mean(),\n",
    "                (pred_j[valid].argmax(1) == label_j[valid]).float().data.cpu().numpy().mean()\n",
    "            ))\n",
    "\n",
    "def validation():\n",
    "    model.eval()\n",
    "    label_i_acc, label_j_acc = 0, 0\n",
    "    for batch in val_dataloader:\n",
    "        with torch.no_grad():\n",
    "            input_ids = batch['input_ids'].to(device)\n",
    "            attention_mask = batch['attention_mask'].to(device)\n",
    "            label_i = batch['label_i'].to(device)\n",
    "            label_j = batch['label_j'].to(device)\n",
    "\n",
    "            pred_i, pred_j = model(\n",
    "                input_ids, \n",
    "                attention_mask\n",
    "            )\n",
    "    \n",
    "            valid = label_j != -1\n",
    "            label_i_acc += (pred_i.argmax(1) == label_i).float().sum().item()\n",
    "            label_j_acc += (pred_j[valid].argmax(1) == label_j[valid]).float().sum().item()\n",
    "    \n",
    "    label_i_acc = label_i_acc / len(val_dataloader.dataset)\n",
    "    label_j_acc = label_j_acc / len(val_dataloader.dataset)\n",
    "\n",
    "    print(\"-------------------------------\")\n",
    "    print(\"Accuracy: %.4f / %.4f\" % (label_i_acc, label_j_acc))\n",
    "    print(\"-------------------------------\")"
   ]
  },
  {
   "cell_type": "code",
   "execution_count": 40,
   "metadata": {},
   "outputs": [],
   "source": [
    "def prediction():\n",
    "    model.eval()\n",
    "    test_label_i = []\n",
    "    test_label_j = []\n",
    "    for batch in test_dataloader:\n",
    "        with torch.no_grad():\n",
    "            input_ids = batch['input_ids'].to(device)\n",
    "            attention_mask = batch['attention_mask'].to(device)\n",
    "            label_i = batch['label_i'].to(device)\n",
    "            label_j = batch['label_j'].to(device)\n",
    "\n",
    "            pred_i, pred_j = model(input_ids, attention_mask)\n",
    "            test_label_i += list(pred_i.argmax(1).data.cpu().numpy())\n",
    "            test_label_j += list(pred_j.argmax(1).data.cpu().numpy())\n",
    "    return test_label_i, test_label_j"
   ]
  },
  {
   "cell_type": "code",
   "execution_count": 41,
   "metadata": {
    "collapsed": true
   },
   "outputs": [
    {
     "name": "stdout",
     "output_type": "stream",
     "text": [
      "iter_num: 100, loss: 1.6583, 14.62% 0.8125 / 0.7222\n",
      "iter_num: 200, loss: 0.9560, 29.24% 0.9688 / 0.7391\n",
      "iter_num: 300, loss: 1.7092, 43.86% 0.7812 / 0.6522\n",
      "iter_num: 400, loss: 1.8314, 58.48% 0.7500 / 0.6000\n",
      "iter_num: 500, loss: 1.1591, 73.10% 0.9375 / 0.8571\n",
      "iter_num: 600, loss: 1.9557, 87.72% 0.7188 / 0.6842\n",
      "-------------------------------\n",
      "Accuracy: 0.8240 / 0.4080\n",
      "-------------------------------\n",
      "iter_num: 100, loss: 1.3821, 14.62% 0.8750 / 0.7222\n",
      "iter_num: 200, loss: 0.8843, 29.24% 0.9688 / 0.8261\n"
     ]
    },
    {
     "ename": "KeyboardInterrupt",
     "evalue": "",
     "output_type": "error",
     "traceback": [
      "\u001b[1;31m---------------------------------------------------------------------------\u001b[0m",
      "\u001b[1;31mKeyboardInterrupt\u001b[0m                         Traceback (most recent call last)",
      "\u001b[1;32m<ipython-input-41-ca557dc79898>\u001b[0m in \u001b[0;36m<module>\u001b[1;34m\u001b[0m\n\u001b[0;32m      1\u001b[0m \u001b[1;32mfor\u001b[0m \u001b[0mepoch\u001b[0m \u001b[1;32min\u001b[0m \u001b[0mrange\u001b[0m\u001b[1;33m(\u001b[0m\u001b[1;36m2\u001b[0m\u001b[1;33m)\u001b[0m\u001b[1;33m:\u001b[0m\u001b[1;33m\u001b[0m\u001b[1;33m\u001b[0m\u001b[0m\n\u001b[1;32m----> 2\u001b[1;33m     \u001b[0mtrain\u001b[0m\u001b[1;33m(\u001b[0m\u001b[1;33m)\u001b[0m\u001b[1;33m\u001b[0m\u001b[1;33m\u001b[0m\u001b[0m\n\u001b[0m\u001b[0;32m      3\u001b[0m     \u001b[0mvalidation\u001b[0m\u001b[1;33m(\u001b[0m\u001b[1;33m)\u001b[0m\u001b[1;33m\u001b[0m\u001b[1;33m\u001b[0m\u001b[0m\n\u001b[0;32m      4\u001b[0m     \u001b[1;31m#TODO\u001b[0m\u001b[1;33m\u001b[0m\u001b[1;33m\u001b[0m\u001b[1;33m\u001b[0m\u001b[0m\n\u001b[0;32m      5\u001b[0m     \u001b[1;31m#添加早停、学习了下降、保存最优模型策略、自定义层高学习率\u001b[0m\u001b[1;33m\u001b[0m\u001b[1;33m\u001b[0m\u001b[1;33m\u001b[0m\u001b[0m\n",
      "\u001b[1;32m<ipython-input-39-ac5818c224c2>\u001b[0m in \u001b[0;36mtrain\u001b[1;34m()\u001b[0m\n\u001b[0;32m     24\u001b[0m \u001b[1;33m\u001b[0m\u001b[0m\n\u001b[0;32m     25\u001b[0m         \u001b[1;31m# 反向梯度信息\u001b[0m\u001b[1;33m\u001b[0m\u001b[1;33m\u001b[0m\u001b[1;33m\u001b[0m\u001b[0m\n\u001b[1;32m---> 26\u001b[1;33m         \u001b[0mloss\u001b[0m\u001b[1;33m.\u001b[0m\u001b[0mbackward\u001b[0m\u001b[1;33m(\u001b[0m\u001b[1;33m)\u001b[0m\u001b[1;33m\u001b[0m\u001b[1;33m\u001b[0m\u001b[0m\n\u001b[0m\u001b[0;32m     27\u001b[0m         \u001b[0mtorch\u001b[0m\u001b[1;33m.\u001b[0m\u001b[0mnn\u001b[0m\u001b[1;33m.\u001b[0m\u001b[0mutils\u001b[0m\u001b[1;33m.\u001b[0m\u001b[0mclip_grad_norm_\u001b[0m\u001b[1;33m(\u001b[0m\u001b[0mmodel\u001b[0m\u001b[1;33m.\u001b[0m\u001b[0mparameters\u001b[0m\u001b[1;33m(\u001b[0m\u001b[1;33m)\u001b[0m\u001b[1;33m,\u001b[0m \u001b[1;36m1.0\u001b[0m\u001b[1;33m)\u001b[0m\u001b[1;33m\u001b[0m\u001b[1;33m\u001b[0m\u001b[0m\n\u001b[0;32m     28\u001b[0m \u001b[1;33m\u001b[0m\u001b[0m\n",
      "\u001b[1;32m~\\AppData\\Roaming\\Python\\Python38\\site-packages\\torch\\_tensor.py\u001b[0m in \u001b[0;36mbackward\u001b[1;34m(self, gradient, retain_graph, create_graph, inputs)\u001b[0m\n\u001b[0;32m    253\u001b[0m                 \u001b[0mcreate_graph\u001b[0m\u001b[1;33m=\u001b[0m\u001b[0mcreate_graph\u001b[0m\u001b[1;33m,\u001b[0m\u001b[1;33m\u001b[0m\u001b[1;33m\u001b[0m\u001b[0m\n\u001b[0;32m    254\u001b[0m                 inputs=inputs)\n\u001b[1;32m--> 255\u001b[1;33m         \u001b[0mtorch\u001b[0m\u001b[1;33m.\u001b[0m\u001b[0mautograd\u001b[0m\u001b[1;33m.\u001b[0m\u001b[0mbackward\u001b[0m\u001b[1;33m(\u001b[0m\u001b[0mself\u001b[0m\u001b[1;33m,\u001b[0m \u001b[0mgradient\u001b[0m\u001b[1;33m,\u001b[0m \u001b[0mretain_graph\u001b[0m\u001b[1;33m,\u001b[0m \u001b[0mcreate_graph\u001b[0m\u001b[1;33m,\u001b[0m \u001b[0minputs\u001b[0m\u001b[1;33m=\u001b[0m\u001b[0minputs\u001b[0m\u001b[1;33m)\u001b[0m\u001b[1;33m\u001b[0m\u001b[1;33m\u001b[0m\u001b[0m\n\u001b[0m\u001b[0;32m    256\u001b[0m \u001b[1;33m\u001b[0m\u001b[0m\n\u001b[0;32m    257\u001b[0m     \u001b[1;32mdef\u001b[0m \u001b[0mregister_hook\u001b[0m\u001b[1;33m(\u001b[0m\u001b[0mself\u001b[0m\u001b[1;33m,\u001b[0m \u001b[0mhook\u001b[0m\u001b[1;33m)\u001b[0m\u001b[1;33m:\u001b[0m\u001b[1;33m\u001b[0m\u001b[1;33m\u001b[0m\u001b[0m\n",
      "\u001b[1;32m~\\AppData\\Roaming\\Python\\Python38\\site-packages\\torch\\autograd\\__init__.py\u001b[0m in \u001b[0;36mbackward\u001b[1;34m(tensors, grad_tensors, retain_graph, create_graph, grad_variables, inputs)\u001b[0m\n\u001b[0;32m    145\u001b[0m         \u001b[0mretain_graph\u001b[0m \u001b[1;33m=\u001b[0m \u001b[0mcreate_graph\u001b[0m\u001b[1;33m\u001b[0m\u001b[1;33m\u001b[0m\u001b[0m\n\u001b[0;32m    146\u001b[0m \u001b[1;33m\u001b[0m\u001b[0m\n\u001b[1;32m--> 147\u001b[1;33m     Variable._execution_engine.run_backward(\n\u001b[0m\u001b[0;32m    148\u001b[0m         \u001b[0mtensors\u001b[0m\u001b[1;33m,\u001b[0m \u001b[0mgrad_tensors_\u001b[0m\u001b[1;33m,\u001b[0m \u001b[0mretain_graph\u001b[0m\u001b[1;33m,\u001b[0m \u001b[0mcreate_graph\u001b[0m\u001b[1;33m,\u001b[0m \u001b[0minputs\u001b[0m\u001b[1;33m,\u001b[0m\u001b[1;33m\u001b[0m\u001b[1;33m\u001b[0m\u001b[0m\n\u001b[0;32m    149\u001b[0m         allow_unreachable=True, accumulate_grad=True)  # allow_unreachable flag\n",
      "\u001b[1;31mKeyboardInterrupt\u001b[0m: "
     ]
    }
   ],
   "source": [
    "for epoch in range(2):\n",
    "    train()\n",
    "    validation()\n",
    "    #TODO\n",
    "    #添加早停、学习了下降、保存最优模型策略、自定义层高学习率\n",
    "    \n",
    "test_pred_i, test_pred_j = prediction()"
   ]
  },
  {
   "cell_type": "code",
   "execution_count": 15,
   "metadata": {},
   "outputs": [],
   "source": [
    "test_pred_i, test_pred_j = prediction()\n",
    "\n",
    "test_submit['label_i'] = test_pred_i\n",
    "test_submit['label_j'] = test_pred_j\n",
    "\n",
    "test_submit.to_csv('bert_submit.csv', index=None)"
   ]
  },
  {
   "cell_type": "markdown",
   "metadata": {},
   "source": [
    "#### BERT模型的精度较好，在文本较长时可以达到线上1.6+的分数。但BERT模型需要过程波动性比较大，需要调参。bert调参：优化器，学习率，maxlen。\n",
    "#### BERT模型可以进行预训练，也可以增加模型的精度，也可以考虑对抗训练。\n",
    "#### 对于外部数据，如疾病的主体/（属性）/客体，可以进行关键词替换，得到更多的样本。\n",
    "#### 两个任务的损失函数加系数。\n",
    "####  修改maxLen，根据文本情况，例如覆盖到90%文本长度。(不是覆盖100%更好，因为会有很多填充)\n",
    "#### 制作预训练模型"
   ]
  },
  {
   "cell_type": "code",
   "execution_count": null,
   "metadata": {},
   "outputs": [],
   "source": [
    "#线下class1:0.8330,class2:0.4320  线上1.4735\n",
    "#线下class1:0.8180,class2:0.4240 线上1.4719"
   ]
  }
 ],
 "metadata": {
  "kernelspec": {
   "display_name": "Python 3",
   "language": "python",
   "name": "python3"
  },
  "language_info": {
   "codemirror_mode": {
    "name": "ipython",
    "version": 3
   },
   "file_extension": ".py",
   "mimetype": "text/x-python",
   "name": "python",
   "nbconvert_exporter": "python",
   "pygments_lexer": "ipython3",
   "version": "3.8.5"
  }
 },
 "nbformat": 4,
 "nbformat_minor": 4
}
